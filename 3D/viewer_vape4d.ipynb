{
 "cells": [
  {
   "cell_type": "code",
   "execution_count": null,
   "metadata": {},
   "outputs": [
    {
     "name": "stdout",
     "output_type": "stream",
     "text": [
      "CUDA available: True\n",
      "Original shape: (101, 1, 100, 100, 100)\n",
      "Simulation shape: (21, 100, 100, 100)\n"
     ]
    }
   ],
   "source": [
    "import h5py\n",
    "import numpy as np\n",
    "from matplotlib import pyplot as plt\n",
    "from vape4d import viewer\n",
    "from tqdm.notebook import tqdm\n",
    "import torch\n",
    "\n",
    "print(\"CUDA available:\", torch.cuda.is_available())\n",
    "\n",
    "path = \"KuramotoSivashinsky/RandomTruncatedFourierSeries/dataset.h5\"\n",
    "\n",
    "with h5py.File(path, \"r\") as f:\n",
    "    group = f[\"nu_0.010\"]\n",
    "    data = group[\"velocity_seed000\"][()]   # shape (101, 3, 100, 100, 100)\n",
    "\n",
    "print(\"Original shape:\", data.shape)\n",
    "\n",
    "# Subsample timesteps (every 5th)\n",
    "sim = data[::5]   # (21, 3, 100, 100, 100)\n",
    "\n",
    "# Pick only first channel and remove channel axis\n",
    "sim = sim[:, 0]  # (21, 100, 100, 100)\n",
    "\n",
    "\n",
    "print(\"Simulation shape:\", sim.shape)\n",
    "\n",
    "# Visualize\n",
    "viewer(sim, plt.get_cmap(\"viridis\"))\n",
    "\n"
   ]
  },
  {
   "cell_type": "code",
   "execution_count": 2,
   "metadata": {},
   "outputs": [
    {
     "ename": "ImportError",
     "evalue": "cannot import name 'diverging_alpha' from 'vape4d' (/local/disk1/stu_isuarez/miniconda/envs/jaxfluids/lib/python3.11/site-packages/vape4d/__init__.py)",
     "output_type": "error",
     "traceback": [
      "\u001b[31m---------------------------------------------------------------------------\u001b[39m",
      "\u001b[31mImportError\u001b[39m                               Traceback (most recent call last)",
      "\u001b[36mCell\u001b[39m\u001b[36m \u001b[39m\u001b[32mIn[2]\u001b[39m\u001b[32m, line 3\u001b[39m\n\u001b[32m      1\u001b[39m \u001b[38;5;28;01mimport\u001b[39;00m\u001b[38;5;250m \u001b[39m\u001b[34;01mh5py\u001b[39;00m\n\u001b[32m      2\u001b[39m \u001b[38;5;28;01mimport\u001b[39;00m\u001b[38;5;250m \u001b[39m\u001b[34;01mnumpy\u001b[39;00m\u001b[38;5;250m \u001b[39m\u001b[38;5;28;01mas\u001b[39;00m\u001b[38;5;250m \u001b[39m\u001b[34;01mnp\u001b[39;00m\n\u001b[32m----> \u001b[39m\u001b[32m3\u001b[39m \u001b[38;5;28;01mfrom\u001b[39;00m\u001b[38;5;250m \u001b[39m\u001b[34;01mvape4d\u001b[39;00m\u001b[38;5;250m \u001b[39m\u001b[38;5;28;01mimport\u001b[39;00m diverging_alpha, render\n\u001b[32m      4\u001b[39m \u001b[38;5;28;01mimport\u001b[39;00m\u001b[38;5;250m \u001b[39m\u001b[34;01mmatplotlib\u001b[39;00m\u001b[34;01m.\u001b[39;00m\u001b[34;01mpyplot\u001b[39;00m\u001b[38;5;250m \u001b[39m\u001b[38;5;28;01mas\u001b[39;00m\u001b[38;5;250m \u001b[39m\u001b[34;01mplt\u001b[39;00m\n\u001b[32m      6\u001b[39m \u001b[38;5;66;03m# === Load dataset ===\u001b[39;00m\n",
      "\u001b[31mImportError\u001b[39m: cannot import name 'diverging_alpha' from 'vape4d' (/local/disk1/stu_isuarez/miniconda/envs/jaxfluids/lib/python3.11/site-packages/vape4d/__init__.py)"
     ]
    }
   ],
   "source": [
    "import h5py\n",
    "import numpy as np\n",
    "from vape4d import diverging_alpha, render\n",
    "import matplotlib.pyplot as plt\n",
    "\n",
    "# === Load dataset ===\n",
    "path = \"Burgers/RandomTruncatedFourierSeries/dataset.h5\"\n",
    "with h5py.File(path, \"r\") as f:\n",
    "    group = f[\"nu_0.010\"]\n",
    "    data = group[\"velocity_seed000\"][()]   # shape (101, 3, 100, 100, 100)\n",
    "\n",
    "print(\"Original shape:\", data.shape)\n",
    "\n",
    "# === Pick one channel ===\n",
    "# Take x-velocity (channel 0)\n",
    "field = data[:, 0]   # shape (101, 100, 100, 100) = [T,D,H,W]\n",
    "\n",
    "print(\"Field shape for render:\", field.shape)\n",
    "\n",
    "# === Render one timestep ===\n",
    "colormap = diverging_alpha(plt.get_cmap(\"magma\"))\n",
    "\n",
    "img = render(\n",
    "    field.astype(np.float32),  # [T,D,H,W]\n",
    "    colormap,\n",
    "    50,        # timestep index (e.g. 50 out of 101)\n",
    "    width=1024,\n",
    "    height=1024,\n",
    ")\n",
    "\n",
    "# === Save image ===\n",
    "plt.imshow(img)\n",
    "plt.axis(\"off\")\n",
    "plt.savefig(\"test.png\", bbox_inches=\"tight\", pad_inches=0)\n",
    "plt.show()\n"
   ]
  }
 ],
 "metadata": {
  "kernelspec": {
   "display_name": "jaxfluids",
   "language": "python",
   "name": "python3"
  },
  "language_info": {
   "codemirror_mode": {
    "name": "ipython",
    "version": 3
   },
   "file_extension": ".py",
   "mimetype": "text/x-python",
   "name": "python",
   "nbconvert_exporter": "python",
   "pygments_lexer": "ipython3",
   "version": "3.11.11"
  }
 },
 "nbformat": 4,
 "nbformat_minor": 2
}
